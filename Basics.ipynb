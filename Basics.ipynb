{
 "cells": [
  {
   "cell_type": "markdown",
   "metadata": {},
   "source": [
    "# My Jupyter Test Project\n",
    "\n",
    "In the code below we:\n",
    "-Imported all from the csv module\n",
    "-opened the AppleStore csv file\n",
    "-We created a list of lists using reader and list functions"
   ]
  },
  {
   "cell_type": "code",
   "execution_count": 9,
   "metadata": {
    "collapsed": false
   },
   "outputs": [
    {
     "name": "stdout",
     "output_type": "stream",
     "text": [
      "[['id', 'track_name', 'size_bytes', 'currency', 'price', 'rating_count_tot', 'rating_count_ver', 'user_rating', 'user_rating_ver', 'ver', 'cont_rating', 'prime_genre', 'sup_devices.num', 'ipadSc_urls.num', 'lang.num', 'vpp_lic'], ['284882215', 'Facebook', '389879808', 'USD', '0.0', '2974676', '212', '3.5', '3.5', '95.0', '4+', 'Social Networking', '37', '1', '29', '1']]\n"
     ]
    }
   ],
   "source": [
    "from csv import *\n",
    "with open('AppleStore.csv', 'r') as csv_file:\n",
    "    reader = reader(csv_file)\n",
    "    apps_data = list(reader)\n",
    "print(apps_data[0:2])\n"
   ]
  },
  {
   "cell_type": "markdown",
   "metadata": {},
   "source": [
    "This dataset contains more than 7000 Apple IOS mobile application details.\n",
    "\n",
    "This data was extracted from the Itunes Search API at the Apple Inc website.\n",
    "\n",
    "It was obtained from: https://www.kaggle.com/ramamet4/app-store-apple-data-set-10k-apps"
   ]
  },
  {
   "cell_type": "markdown",
   "metadata": {},
   "source": [
    "|Column name | Description|\n",
    "|---|---|\n",
    "|\"id\" | App ID|\n",
    "|\"track_name\"| App Name|\n",
    "|\"size_bytes\"| Size (in Bytes)|\n",
    "|\"currency\"| Currency Type|\n",
    "|\"price\"| Price amount|\n",
    "|\"rating_count_tot\"| User Rating counts (for all version)|\n",
    "|\"rating_count_ver\"| User Rating counts (for current version)|\n",
    "|\"user_rating\" | Average User Rating value (for all version)|\n",
    "|\"user_rating_ver\"| Average User Rating value (for current version)|\n",
    "|\"ver\" | Latest version code|\n",
    "|\"cont_rating\"| Content Rating|\n",
    "|\"prime_genre\"| Primary Genre|\n",
    "|\"sup_devices.num\"| Number of supporting devices|\n",
    "|\"ipadSc_urls.num\"| Number of screenshots showed for display|\n",
    "|\"lang.num\"| Number of supported languages|\n",
    "|\"vpp_lic\"| Vpp Device Based Licensing Enabled|"
   ]
  }
 ],
 "metadata": {
  "kernelspec": {
   "display_name": "Python 3",
   "language": "python",
   "name": "python3"
  },
  "language_info": {
   "codemirror_mode": {
    "name": "ipython",
    "version": 3
   },
   "file_extension": ".py",
   "mimetype": "text/x-python",
   "name": "python",
   "nbconvert_exporter": "python",
   "pygments_lexer": "ipython3",
   "version": "3.4.3"
  }
 },
 "nbformat": 4,
 "nbformat_minor": 2
}
